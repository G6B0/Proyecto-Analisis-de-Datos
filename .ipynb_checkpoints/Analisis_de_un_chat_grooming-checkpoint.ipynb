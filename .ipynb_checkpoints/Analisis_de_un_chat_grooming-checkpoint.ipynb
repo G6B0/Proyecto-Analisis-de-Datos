{
 "cells": [
  {
   "cell_type": "code",
   "execution_count": 5,
   "id": "9d342782-3a74-43c8-9826-24737208b258",
   "metadata": {},
   "outputs": [
    {
     "ename": "NameError",
     "evalue": "name 'TextBlob' is not defined",
     "output_type": "error",
     "traceback": [
      "\u001b[31m---------------------------------------------------------------------------\u001b[39m",
      "\u001b[31mNameError\u001b[39m                                 Traceback (most recent call last)",
      "\u001b[36mCell\u001b[39m\u001b[36m \u001b[39m\u001b[32mIn[5]\u001b[39m\u001b[32m, line 25\u001b[39m\n\u001b[32m     21\u001b[39m     \u001b[38;5;28;01mreturn\u001b[39;00m \u001b[38;5;28mstr\u001b[39m(TextBlob(texto).correct())\n\u001b[32m     23\u001b[39m \u001b[38;5;66;03m#Ahora probaremos la funcion para corregir texto con a (la columna \"Mensaje\")\u001b[39;00m\n\u001b[32m---> \u001b[39m\u001b[32m25\u001b[39m mensaje_corregido = \u001b[43mcorregir_texto\u001b[49m\u001b[43m(\u001b[49m\u001b[43ma\u001b[49m\u001b[43m[\u001b[49m\u001b[32;43m0\u001b[39;49m\u001b[43m]\u001b[49m\u001b[43m)\u001b[49m\n",
      "\u001b[36mCell\u001b[39m\u001b[36m \u001b[39m\u001b[32mIn[5]\u001b[39m\u001b[32m, line 21\u001b[39m, in \u001b[36mcorregir_texto\u001b[39m\u001b[34m(texto)\u001b[39m\n\u001b[32m     20\u001b[39m \u001b[38;5;28;01mdef\u001b[39;00m\u001b[38;5;250m \u001b[39m\u001b[34mcorregir_texto\u001b[39m(texto):\n\u001b[32m---> \u001b[39m\u001b[32m21\u001b[39m     \u001b[38;5;28;01mreturn\u001b[39;00m \u001b[38;5;28mstr\u001b[39m(\u001b[43mTextBlob\u001b[49m(texto).correct())\n",
      "\u001b[31mNameError\u001b[39m: name 'TextBlob' is not defined"
     ]
    }
   ],
   "source": [
    "import pandas as pd\n",
    "\n",
    "# Leer el archivo de texto con una expresión regular\n",
    "df = pd.read_csv(\"hot95cobraguy.txt\", sep=r\" \\((\\d{2}/\\d{2}/\\d{2} \\d{2}:\\d{2}:\\d{2} [APM]{2})\\): \", header=None, names=[\"Usuario\", \"Fecha_Hora\", \"Mensaje\"], engine=\"python\")\n",
    "\n",
    "# Mostrar las primeras filas\n",
    "#df.head()\n",
    "\n",
    "# Mostrar el tipo de atributo de las columnas\n",
    "#df.dtypes\n",
    "\n",
    "# Como fecha_Hora es de tipo object, lo tranformaremos a tipo datetime\n",
    "df['Fecha_Hora'] = pd.to_datetime(df['Fecha_Hora'], format = '%d/%m/%y %I:%M:%S %p')\n",
    "#Comprobamos\n",
    "#df.dtypes\n",
    "\n",
    "a = df[\"Mensaje\"]\n",
    "\n",
    "# Función para corregir texto\n",
    "def corregir_texto(texto):\n",
    "    return str(TextBlob(texto).correct())\n",
    "\n",
    "#Ahora probaremos la funcion para corregir texto con a (la columna \"Mensaje\")\n",
    "\n",
    "mensaje_corregido = corregir_texto(a[0])\n",
    "\n",
    "print(\"Mensaje original:\", mensaje)\n",
    "print(\"Mensaje corregido:\", mensaje_corregido)\n",
    "\n",
    "\n",
    "\n"
   ]
  },
  {
   "cell_type": "code",
   "execution_count": null,
   "id": "410c11c8-ab45-40e6-8f4a-b517c6db8b4c",
   "metadata": {},
   "outputs": [],
   "source": []
  }
 ],
 "metadata": {
  "kernelspec": {
   "display_name": "Python 3 (ipykernel)",
   "language": "python",
   "name": "python3"
  },
  "language_info": {
   "codemirror_mode": {
    "name": "ipython",
    "version": 3
   },
   "file_extension": ".py",
   "mimetype": "text/x-python",
   "name": "python",
   "nbconvert_exporter": "python",
   "pygments_lexer": "ipython3",
   "version": "3.13.0"
  }
 },
 "nbformat": 4,
 "nbformat_minor": 5
}

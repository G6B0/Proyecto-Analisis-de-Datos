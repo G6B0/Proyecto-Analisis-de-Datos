{
 "cells": [
  {
   "cell_type": "markdown",
   "id": "630753f4",
   "metadata": {},
   "source": [
    "Instala la librería `contractions` para expandir contracciones en inglés."
   ]
  },
  {
   "cell_type": "code",
   "execution_count": null,
   "id": "IJWBkBZiQD_s",
   "metadata": {
    "colab": {
     "base_uri": "https://localhost:8080/"
    },
    "id": "IJWBkBZiQD_s",
    "outputId": "9ad17529-a8c3-4a70-f8f0-8fa9a9a6a3ca"
   },
   "outputs": [],
   "source": [
    "%pip install contractions"
   ]
  },
  {
   "cell_type": "markdown",
   "id": "e45a2ca3",
   "metadata": {},
   "source": [
    "Importa las librerías necesarias para procesamiento y análisis de datos."
   ]
  },
  {
   "cell_type": "code",
   "execution_count": null,
   "id": "86c51ab1",
   "metadata": {},
   "outputs": [],
   "source": [
    "import contractions\n",
    "import os\n",
    "import re\n",
    "import matplotlib.pyplot as plt\n",
    "import pandas as pd\n",
    "import xml.etree.ElementTree as ET\n",
    "from nltk.corpus import stopwords\n",
    "from wordcloud import WordCloud\n",
    "import nltk\n",
    "nltk.download('stopwords')"
   ]
  },
  {
   "cell_type": "markdown",
   "id": "e01afd00",
   "metadata": {},
   "source": [
    "Define funciones para limpiar y parsear archivos XML de chats, y revisa errores de parseo en los archivos."
   ]
  },
  {
   "cell_type": "code",
   "execution_count": null,
   "id": "0e4f25c3-0086-48a3-9334-b753f8e38cd4",
   "metadata": {
    "colab": {
     "base_uri": "https://localhost:8080/"
    },
    "id": "0e4f25c3-0086-48a3-9334-b753f8e38cd4",
    "outputId": "e0f767a1-8322-4d11-dbca-c962442d9b0f"
   },
   "outputs": [],
   "source": [
    "def clean_invalid_xml_chars(filepath):\n",
    "    with open(filepath, 'r', encoding='utf-8', errors='ignore') as file:\n",
    "        content = file.read()\n",
    "\n",
    "    def clean_body_content(match):\n",
    "        body_text = match.group(1)\n",
    "        cleaned_text = re.sub(r'[<>&\"\\']', '', body_text)  # Elimina caracteres problemáticos\n",
    "        return f\"<BODY>{cleaned_text}</BODY>\"\n",
    "\n",
    "    content = re.sub(r'<BODY>(.*?)</BODY>', clean_body_content, content, flags=re.DOTALL | re.IGNORECASE)\n",
    "    return content\n",
    "\n",
    "def parse_chatlog(xml_file):\n",
    "    try:\n",
    "        content = clean_invalid_xml_chars(xml_file)\n",
    "        root = ET.fromstring(content)\n",
    "\n",
    "        predator_usernames = [sn.findtext('USERNAME') for sn in root.findall('PREDATOR/SCREENNAME')]\n",
    "        victim_usernames = [sn.findtext('USERNAME') for sn in root.findall('VICTIM/SCREENNAME')]\n",
    "\n",
    "        posts = []\n",
    "        for post in root.findall('POST'):\n",
    "            username = post.findtext(\"USERNAME\")\n",
    "            if not username or username.strip() == \"\":\n",
    "                continue  # ⛔️ Saltar líneas sin username\n",
    "\n",
    "            role = (\n",
    "                'predator' if username in predator_usernames\n",
    "                else 'victim' if username in victim_usernames\n",
    "                else 'desconocido'\n",
    "            )\n",
    "\n",
    "            post_data = {\n",
    "                'username': username.strip(),\n",
    "                'datetime': post.findtext(\"DATETIME\"),\n",
    "                'body'    : post.findtext('BODY'),\n",
    "                'role'    : role\n",
    "            }\n",
    "\n",
    "            posts.append(post_data)\n",
    "\n",
    "        return pd.DataFrame(posts)\n",
    "\n",
    "    except ET.ParseError as e:\n",
    "        raise ET.ParseError(f\"{xml_file} → {str(e)}\")\n",
    "\n",
    "\n",
    "# Revisar errores en los archivos xml\n",
    "\n",
    "def revisar_errores_en_xmls(folder_path):\n",
    "    errores = []\n",
    "\n",
    "    for filename in os.listdir(folder_path):\n",
    "        if filename.endswith(\".xml\"):\n",
    "            full_path = os.path.join(folder_path, filename)\n",
    "            try:\n",
    "                _ = parse_chatlog(full_path)\n",
    "            except ET.ParseError as e:\n",
    "                errores.append(str(e))\n",
    "\n",
    "    if errores:\n",
    "        print(\"\\n❌ Archivos con errores de parseo:\\n\")\n",
    "        for err in errores:\n",
    "            print(f\"  - {err}\")\n",
    "    else:\n",
    "        print(\"✅ Todos los archivos XML fueron procesados sin errores.\")\n",
    "\n",
    "revisar_errores_en_xmls(\"GeneralData\")"
   ]
  },
  {
   "cell_type": "markdown",
   "id": "c0c09d83",
   "metadata": {},
   "source": [
    "Carga todos los archivos XML, los procesa y combina en un solo DataFrame."
   ]
  },
  {
   "cell_type": "code",
   "execution_count": null,
   "id": "6c0e4c7b-411e-4ebf-aa01-21b8e8996922",
   "metadata": {
    "colab": {
     "base_uri": "https://localhost:8080/"
    },
    "id": "6c0e4c7b-411e-4ebf-aa01-21b8e8996922",
    "outputId": "5ea1f95c-5f0e-4e70-b34b-dc353d0ec140"
   },
   "outputs": [],
   "source": [
    "# Ruta de tu carpeta con los XMLs\n",
    "folder_path = \"GeneralData\"\n",
    "all_dfs = []\n",
    "\n",
    "for filename in os.listdir(folder_path):\n",
    "    if filename.endswith(\".xml\"):\n",
    "        full_path = os.path.join(folder_path, filename)\n",
    "        df = parse_chatlog(full_path)\n",
    "        if not df.empty:\n",
    "            df['file'] = filename  # Para saber de qué archivo viene cada línea\n",
    "            all_dfs.append(df)\n",
    "\n",
    "# Combinar todos los DataFrames\n",
    "combined_df = pd.concat(all_dfs, ignore_index=True)\n",
    "print(combined_df.head())"
   ]
  },
  {
   "cell_type": "markdown",
   "id": "4051f0f6",
   "metadata": {},
   "source": [
    "Muestra las primeras filas del DataFrame combinado."
   ]
  },
  {
   "cell_type": "code",
   "execution_count": null,
   "id": "nL2j2S6zN2zA",
   "metadata": {
    "colab": {
     "base_uri": "https://localhost:8080/",
     "height": 206
    },
    "id": "nL2j2S6zN2zA",
    "outputId": "164b6e4a-4eab-4486-d8fe-0f332cc355fe"
   },
   "outputs": [],
   "source": [
    "combined_df.head()"
   ]
  },
  {
   "cell_type": "markdown",
   "id": "5ff2448a",
   "metadata": {},
   "source": [
    "Muestra las últimas filas del DataFrame combinado."
   ]
  },
  {
   "cell_type": "code",
   "execution_count": null,
   "id": "17a93db0-3644-4321-85db-e70916d40325",
   "metadata": {
    "colab": {
     "base_uri": "https://localhost:8080/",
     "height": 206
    },
    "id": "17a93db0-3644-4321-85db-e70916d40325",
    "outputId": "a814cead-51b1-456f-a6f7-cf204afd6148"
   },
   "outputs": [],
   "source": [
    "combined_df.tail()"
   ]
  },
  {
   "cell_type": "markdown",
   "id": "30126ecc",
   "metadata": {},
   "source": [
    "Define un diccionario de reemplazo para normalizar slangs y una función para normalizar texto."
   ]
  },
  {
   "cell_type": "code",
   "execution_count": null,
   "id": "d3cd47af-0f2d-4cda-8821-93b8a651c924",
   "metadata": {
    "id": "d3cd47af-0f2d-4cda-8821-93b8a651c924"
   },
   "outputs": [],
   "source": [
    "replacement_dict = {\n",
    "    r\"\\bluv\\b\": \"love\",\n",
    "    r\"\\bdoin\\b\": \"doing\",\n",
    "    r\"\\bu\\b\": \"you\",\n",
    "    r\"\\bru\\b\": \"are you\",\n",
    "    r\"\\br u\\b\": \"are you\",\n",
    "    r\"\\bya\\b\": \"you\",\n",
    "    r\"\\byr\\b\": \"your\",\n",
    "    r\"\\bur\\b\": \"your\",\n",
    "    r\"\\br\\b\": \"are\",\n",
    "    r\"\\bim\\b\": \"i'm\",\n",
    "    r\"\\bidk\\b\": \"i don't know\",\n",
    "    r\"\\bc\\b\": \"see\",\n",
    "    r\"\\bc u\\b\": \"see you\",\n",
    "    r\"\\bcya\\b\": \"see you\",\n",
    "    r\"\\bbtw\\b\": \"by the way\",\n",
    "    r\"\\bomg\\b\": \"oh my god\",\n",
    "    r\"\\bthx\\b\": \"thanks\",\n",
    "    r\"\\bpls\\b\": \"please\",\n",
    "    r\"\\bplz\\b\": \"please\",\n",
    "    r\"\\blol\\b\": \"laughing out loud\",\n",
    "    r\"\\blmao\\b\": \"laughing my ass off\",\n",
    "    r\"\\bwtf\\b\": \"what the fuck\",\n",
    "    r\"\\bwth\\b\": \"what the hell\",\n",
    "    r\"\\bomw\\b\": \"on my way\",\n",
    "    r\"\\bl8r\\b\": \"later\",\n",
    "    r\"\\bgr8\\b\": \"great\",\n",
    "    r\"\\bmsg\\b\": \"message\",\n",
    "    r\"\\btxt\\b\": \"text\",\n",
    "    r\"\\bpic\\b\": \"picture\",\n",
    "    r\"\\bttyl\\b\": \"talk to you later\",\n",
    "    r\"\\bbrb\\b\": \"be right back\",\n",
    "    r\"\\bafk\\b\": \"away from keyboard\",\n",
    "    r\"\\bbf\\b\": \"boyfriend\",\n",
    "    r\"\\bgf\\b\": \"girlfriend\",\n",
    "    r\"\\bwanna\\b\": \"want to\",\n",
    "    r\"\\bgonna\\b\": \"going to\",\n",
    "    r\"\\bgotta\\b\": \"got to\",\n",
    "    r\"\\bk\\b\": \"okay\",\n",
    "    r\"\\bok\\b\": \"okay\",\n",
    "    r\"\\bcuz\\b\": \"because\",\n",
    "    r\"\\bcoz\\b\": \"because\",\n",
    "    r\"\\btho\\b\": \"though\",\n",
    "    r\"\\btho\\b\": \"though\",\n",
    "    r\"\\btho\\b\": \"though\",\n",
    "    r\"\\bdat\\b\": \"that\",\n",
    "    r\"\\bda\\b\": \"the\",\n",
    "    r\"\\bdis\\b\": \"this\",\n",
    "    r\"\\bdem\\b\": \"them\",\n",
    "    r\"\\bain't\\b\": \"is not\",\n",
    "    r\"\\bgotcha\\b\": \"got you\",\n",
    "    r\"\\bsorta\\b\": \"sort of\",\n",
    "    r\"\\bkinda\\b\": \"kind of\",\n",
    "    r\"\\bdunno\\b\": \"don't know\",\n",
    "    r\"\\btryna\\b\": \"trying to\",\n",
    "    r\"\\blemme\\b\": \"let me\",\n",
    "    r\"\\bgimme\\b\": \"give me\",\n",
    "    r\"\\bwhatcha\\b\": \"what are you\",\n",
    "    r\"\\bill\\b\": \"i will\",\n",
    "    r\"\\b2\\b\": \"too\",\n",
    "    r\"\\b4\\b\": \"for\",\n",
    "    r\"\\bme2\\b\": \"me too\",\n",
    "    r\"\\bp\\b\": \"\",\n",
    "    r\"\\bk\\b\": \"ok\",\n",
    "    r\"\\bgetin\\b\": \"getting\",\n",
    "    r\"\\bgtg\\b\": \"got to go\",\n",
    "    r\"\\bu2\\b\": \"you too\",\n",
    "    r\"\\b2day\\b\": \"today\",\n",
    "    r\"\\bb4\\b\": \"before\",\n",
    "    r\"\\b4u\\b\": \"for you\",\n",
    "    r\"\\b2nite\\b\": \"tonight\",\n",
    "    r\"\\b2moro\\b\": \"tomorrow\",\n",
    "    r\"\\b4u\\b\": \"for you\",\n",
    "    r\"\\b4ever\\b\": \"forever\",\n",
    "    r\"\\bb4\\b\": \"before\",\n",
    "    r\"\\b4get\\b\": \"forget\",\n",
    "    r\"\\bgr8\\b\": \"great\",\n",
    "    r\"\\b8\\b\": \"ate\",\n",
    "    r\"\\b1\\b\": \"one\",\n",
    "    r\"\\b1der\\b\": \"wonder\",\n",
    "    r\"\\b1st\\b\": \"first\",\n",
    "    r\"\\bcu\\b\": \"see you\",\n",
    "    r\"\\bc u\\b\": \"see you\",\n",
    "    r\"\\b4u\\b\": \"for you\",\n",
    "    r\"\\bu\\b\": \"you\",\n",
    "    r\"\\bur\\b\": \"your\",\n",
    "    r\"\\br\\b\": \"are\",\n",
    "    r\"\\bpls\\b\": \"please\",\n",
    "    r\"\\bplz\\b\": \"please\",\n",
    "    r\"\\bthx\\b\": \"thanks\",\n",
    "    r\"\\bomg\\b\": \"oh my god\",\n",
    "    r\"\\bcauz\\b\": \"because\",\n",
    "    r\"\\bcuz\\b\": \"because\",\n",
    "    r\"\\bhehe\\b\": \"\",\n",
    "    r\"\\bcomdom\\b\": \"condom\",\n",
    "    r\"\\bpreggerz\\b\": \"pregnant\",\n",
    "    r\"\\bmin\\b\": \"minutes\",\n",
    "    r\"\\bscard\\b\": \"scared\",\n",
    "    r\"\\bhafta\\b\": \"have to\",\n",
    "    r\"\\bprof\\b\": \"profile\",\n",
    "    r\"\\bpromis\\b\": \"promise\",\n",
    "    r\"\\bcallin\\b\": \"calling\",\n",
    "    r\"\\bhav\\b\": \"have\",\n",
    "    r\"\\bno\\b\": \"no\",\n",
    "    r\"\\bhehe\\b\": \"\",\n",
    "    r\"\\bsooo\\b\": \"so\",\n",
    "    r\"\\byeah\\b\": \"yes\",\n",
    "    r\"\\bwait\\b\": \"wait\",\n",
    "\n",
    "}\n",
    "\n",
    "def normalize_text(text):\n",
    "    if not isinstance(text, str):  # Manejo de valores no-string (por si hay NaN)\n",
    "        return \"\"\n",
    "\n",
    "    # Paso 1: Convertir a minúsculas\n",
    "    text = text.lower()\n",
    "\n",
    "    # Paso 2: Expandir contracciones con la librería contractions\n",
    "    text = contractions.fix(text)\n",
    "\n",
    "    # Paso 3: Reemplazar slangs usando tu diccionario\n",
    "    for pattern, replacement in replacement_dict.items():\n",
    "        text = re.sub(pattern, replacement, text)\n",
    "\n",
    "    # Paso 4: Limpieza adicional (opcional)\n",
    "    text = re.sub(r'[^a-z0-9\\s]', ' ', text) # Elimina caracteres no alfabéticos\n",
    "    text = re.sub(r'\\s+', ' ', text).strip()  # Elimina espacios extras\n",
    "\n",
    "    return text"
   ]
  },
  {
   "cell_type": "markdown",
   "id": "409c682c",
   "metadata": {},
   "source": [
    "Aplica la normalización de texto a la columna 'body' y muestra los resultados."
   ]
  },
  {
   "cell_type": "code",
   "execution_count": null,
   "id": "813bba20-864a-4041-9091-01533450601f",
   "metadata": {
    "colab": {
     "base_uri": "https://localhost:8080/",
     "height": 459
    },
    "id": "813bba20-864a-4041-9091-01533450601f",
    "outputId": "818db995-4bc2-4ed4-8cbe-bb8e3cc6d38d"
   },
   "outputs": [],
   "source": [
    "combined_df['normalized_body'] = combined_df['body'].apply(normalize_text)\n",
    "# Mostrar resultados\n",
    "combined_df['normalized_body']"
   ]
  },
  {
   "cell_type": "code",
   "execution_count": null,
   "id": "476f058f",
   "metadata": {},
   "outputs": [],
   "source": [
    "# Une todos los textos del cuerpo de los mensajes en una sola cadena\n",
    "predator_text = ' '.join(combined_df[combined_df['role'] == 'predator']['normalized_body'].dropna().astype(str))\n",
    "\n",
    "predator_text = predator_text.lower()\n",
    "\n",
    "stop_words = set(stopwords.words('english'))\n",
    "\n",
    "predator_text = re.sub(r'\\d+', '', predator_text)\n",
    "predator_text = re.sub(r'[^\\w\\s]', '', predator_text)\n",
    "\n",
    "palabras = [word for word in predator_text.split() if word not in stop_words]\n",
    "\n",
    "# Crea el objeto WordCloud\n",
    "wordcloud = WordCloud(width=1600, height=800, background_color='white', collocations=False).generate(' '.join(palabras))\n",
    "\n",
    "# Mostrar el WordCloud\n",
    "plt.figure(figsize=(20, 10))\n",
    "plt.imshow(wordcloud, interpolation='bilinear')\n",
    "plt.axis('off')\n",
    "plt.title(\"WordCloud de los groomers\", fontsize=24)\n",
    "plt.show()"
   ]
  },
  {
   "cell_type": "code",
   "execution_count": null,
   "id": "68807cb5",
   "metadata": {},
   "outputs": [],
   "source": [
    "\n",
    "# Une todos los textos del cuerpo de los mensajes en una sola cadena\n",
    "victim_text = ' '.join(combined_df[combined_df['role'] == 'victim']['normalized_body'].dropna().astype(str))\n",
    "\n",
    "victim_text = victim_text.lower()\n",
    "\n",
    "stop_words = set(stopwords.words('english'))\n",
    "\n",
    "victim_text = re.sub(r'\\d+', '', victim_text)\n",
    "victim_text = re.sub(r'[^\\w\\s]', '', victim_text)\n",
    "\n",
    "palabras = [word for word in victim_text.split() if word not in stop_words]\n",
    "\n",
    "# Crea el objeto WordCloud\n",
    "wordcloud = WordCloud(width=1600, height=800, background_color='white', collocations=False).generate(' '.join(palabras))\n",
    "\n",
    "# Mostrar el WordCloud\n",
    "plt.figure(figsize=(20, 10))\n",
    "plt.imshow(wordcloud, interpolation='bilinear')\n",
    "plt.axis('off')\n",
    "plt.title(\"WordCloud de las victimas\", fontsize=24)\n",
    "plt.show()"
   ]
  },
  {
   "cell_type": "markdown",
   "id": "b0b650ce",
   "metadata": {},
   "source": [
    "Se ha visualizado varios \"Slangs\" que usan tanto los groomers como las victimas, por lo que se ha creado un diccionario para poder entender mejor las palabras usadas y pasarlas a palabras mas formales"
   ]
  },
  {
   "cell_type": "markdown",
   "id": "5fa38c14",
   "metadata": {},
   "source": [
    " **Cantidad de mensajes de predadores y victimas en el archivo de ejemplo**"
   ]
  },
  {
   "cell_type": "code",
   "execution_count": null,
   "id": "0ba2991a",
   "metadata": {},
   "outputs": [],
   "source": [
    "conteo = combined_df['role'].value_counts()\n",
    "\n",
    "conteo = conteo[conteo.index.isin(['victim', 'predator'])]\n",
    "\n",
    "plt.figure(figsize=(8, 6))\n",
    "plt.pie(conteo, labels=conteo.index, autopct='%1.1f%%', startangle=90, colors=['lightcoral', 'skyblue'])\n",
    "plt.title('Distribución de Víctimas y Depredadores (ArmySgt1961.xml)')\n",
    "plt.axis('equal')\n",
    "\n",
    "plt.show()"
   ]
  },
  {
   "cell_type": "markdown",
   "id": "0148240c",
   "metadata": {},
   "source": [
    "Contador de la longitud de palabras en archivo *'ArmySgt1961.xml'*"
   ]
  },
  {
   "cell_type": "code",
   "execution_count": null,
   "id": "a6e8efd7",
   "metadata": {},
   "outputs": [],
   "source": [
    "combined_df['word_length'] = combined_df['normalized_body'].str.split().str.len()\n",
    "\n",
    "# Mostrar las primeras filas para verificar\n",
    "print(combined_df[['role', 'normalized_body', 'word_length']].head())\n"
   ]
  },
  {
   "cell_type": "code",
   "execution_count": null,
   "id": "c6198a51",
   "metadata": {},
   "outputs": [],
   "source": [
    "import seaborn as sns\n",
    "\n",
    "# Filtrar datos\n",
    "df_filtered = combined_df[combined_df['role'].isin(['victim', 'predator'])]\n",
    "\n",
    "plt.figure(figsize=(10, 6))\n",
    "sns.boxplot(\n",
    "    x='role',\n",
    "    y='word_length',\n",
    "    hue='role',  # <- Añadimos hue para evitar el warning\n",
    "    data=df_filtered,\n",
    "    palette={'victim': 'lightcoral', 'predator': 'skyblue'},\n",
    "    legend=False  # <- Ocultamos leyenda si no es necesaria\n",
    ")\n",
    "plt.title('Distribución de longitud de palabras')\n",
    "plt.xlabel('Rol')\n",
    "plt.ylabel('Número de palabras')\n",
    "plt.grid(True, axis='y', linestyle='--', alpha=0.7)\n",
    "#plt.ylim(0, 20)   Mostrar solo mensajes con menos de 20 palabras\n",
    "\n",
    "plt.show()"
   ]
  },
  {
   "cell_type": "code",
   "execution_count": null,
   "id": "8b366451",
   "metadata": {},
   "outputs": [],
   "source": [
    "pd.set_option('display.max_colwidth', None)  # Desactiva el recorte\n",
    "print(combined_df[combined_df['role'] == 'predator'].nlargest(1, 'word_length')['normalized_body'])\n"
   ]
  },
  {
   "cell_type": "code",
   "execution_count": null,
   "id": "3049840b",
   "metadata": {},
   "outputs": [],
   "source": [
    "\n",
    "#combined_df['datetime'] = pd.to_datetime(combined_df['datetime'], errors='coerce')\n",
    "dt_data = combined_df['datetime']\n",
    "\n",
    "fecha_df = pd.DataFrame({'datetime_str': dt_data})\n",
    "\n",
    "def preprocess_datetime(dt_str):\n",
    "\n",
    "    if pd.isna(dt_str) or not isinstance(dt_str, str):\n",
    "        return None\n",
    "\n",
    "    #Sacar parentesis\n",
    "    dt_str = dt_str.strip(\"()\")\n",
    "\n",
    "    #Sacar corchetes\n",
    "    dt_str = dt_str.strip(\"[]\")\n",
    "\n",
    "    # Sacar espacios\n",
    "    re.sub(r'\\s+', ' ', dt_str).strip()\n",
    "\n",
    "    # Estandarizar am/pm\n",
    "    dt_str = dt_str.replace('a.m.', 'am').replace('p.m.', 'pm')\n",
    "    dt_str = dt_str.replace('A.M.', 'AM').replace('P.M.', 'PM')\n",
    "\n",
    "    if not dt_str:\n",
    "        return None\n",
    "    return dt_str\n",
    "\n",
    "fecha_df['datetime_limpio'] = fecha_df['datetime_str'].apply(preprocess_datetime)\n",
    "print(fecha_df[['datetime_str', 'datetime_limpio']].head(20))"
   ]
  },
  {
   "cell_type": "code",
   "execution_count": null,
   "id": "dfc67e20",
   "metadata": {},
   "outputs": [],
   "source": [
    "# Formato fecha y hora\n",
    "formats_to_try = [\n",
    "    \"%m/%d/%Y %I:%M:%S %p\",  # ej, 5/12/2006 1:53:15 pm\n",
    "    \"%m/%d/%y %I:%M:%S %p\",  # ej, 10/01/08 9:43:46 pm\n",
    "    \"%I:%M:%S %p\",           # ej, 7:14:04 pm\n",
    "    \"%I:%M %p\"\n",
    "]\n",
    "fecha_df['datetime_parseado'] = pd.NaT\n",
    "\n",
    "for i, row in fecha_df.iterrows():\n",
    "    val_limpio = row['datetime_limpio']\n",
    "    if pd.isna(val_limpio):\n",
    "        continue\n",
    "\n",
    "    parseado = False\n",
    "    for fmt in formats_to_try:\n",
    "        try:\n",
    "            fecha_df.loc[i, 'datetime_parseado'] = pd.to_datetime(val_limpio, format=fmt)\n",
    "            parseado = True\n",
    "            break\n",
    "        except ValueError:\n",
    "            continue\n",
    "\n",
    "print(fecha_df[['datetime_str', 'datetime_limpio', 'datetime_parseado']].head(20))\n",
    "\n",
    "unparsed = fecha_df[fecha_df['datetime_parseado'].isna() & fecha_df['datetime_limpio'].notna()]\n",
    "if not unparsed.empty:\n",
    "    print(f\"\\n {len(unparsed)} Entradas no pudieron ser parseadas:\")\n",
    "    print(unparsed[['datetime_str', 'datetime_limpio']])\n",
    "    print(\"\\nEntradas no parseadas:\")\n",
    "    print(unparsed['datetime_limpio'].value_counts())\n",
    "else:\n",
    "    print(\"\\nEntradas datetime no nulas ya parseadas o limpias.\")"
   ]
  },
  {
   "cell_type": "code",
   "execution_count": null,
   "id": "29a5e080",
   "metadata": {},
   "outputs": [],
   "source": [
    "fecha_df['datetime_parseado'] = pd.to_datetime(fecha_df['datetime_parseado'], errors='coerce')\n",
    "\n",
    "# Extraer la hora del dia\n",
    "fecha_df_valid_dates = fecha_df.dropna(subset=['datetime_parseado'])\n",
    "fecha_df_valid_dates['hora_del_dia'] = fecha_df_valid_dates['datetime_parseado'].dt.hour\n",
    "\n",
    "# Contar la actividad por hora\n",
    "actividad_por_hora = fecha_df_valid_dates['hora_del_dia'].value_counts().sort_index()\n",
    "\n",
    "# Graficar\n",
    "plt.figure(figsize=(12, 6))\n",
    "plt.bar(actividad_por_hora.index, actividad_por_hora.values, color='skyblue', width=0.8)\n",
    "\n",
    "plt.title('Actividad por Hora del Día', fontsize=16)\n",
    "plt.xlabel('Hora del Día (Formato 24h)', fontsize=12)\n",
    "plt.ylabel('Número de Mensajes/Eventos', fontsize=12)\n",
    "plt.xticks(ticks=range(0, 24), labels=[str(h) for h in range(0, 24)])\n",
    "plt.grid(axis='y', linestyle='--', alpha=0.7)\n",
    "plt.tight_layout()\n",
    "plt.show()\n",
    "\n",
    "print(\"\\nTabla de actividad por hora del día:\")\n",
    "print(actividad_por_hora)"
   ]
  },
  {
   "cell_type": "markdown",
   "id": "a61ca8b1",
   "metadata": {},
   "source": [
    "# Preparacion ML\n"
   ]
  },
  {
   "cell_type": "code",
   "execution_count": null,
   "id": "d7b4e508",
   "metadata": {},
   "outputs": [],
   "source": [
    "chats_agrupados = combined_df.groupby('file')['normalized_body'].apply(lambda msgs : ' '.join(msgs)).reset_index()\n",
    "chats_agrupados.columns = ['file','full_chat']\n",
    "chats_agrupados['label'] = 1\n"
   ]
  },
  {
   "cell_type": "code",
   "execution_count": null,
   "id": "3553826c",
   "metadata": {},
   "outputs": [],
   "source": [
    "grooming_chats_agrupados = chats_agrupados.drop(columns=['file'])"
   ]
  },
  {
   "cell_type": "code",
   "execution_count": null,
   "id": "2df9b87a",
   "metadata": {},
   "outputs": [],
   "source": [
    "from datasets import load_dataset\n",
    "\n",
    "dataset = load_dataset(\"daily_dialog\", trust_remote_code=True)"
   ]
  },
  {
   "cell_type": "code",
   "execution_count": null,
   "id": "a1cfc6e1",
   "metadata": {},
   "outputs": [],
   "source": [
    "dialog_data = dataset['train'].to_pandas()"
   ]
  },
  {
   "cell_type": "code",
   "execution_count": null,
   "id": "1d5807cb",
   "metadata": {},
   "outputs": [],
   "source": [
    "dialog_data['dialog'] = dialog_data['dialog'].apply(lambda x: ' '.join(eval(x)) if isinstance(x, str) and x.startswith('[') else ' '.join(x) if isinstance(x,list) else str(x))\n",
    "dialog_data['normalized_dialog'] = dialog_data['dialog'].apply(normalize_text)"
   ]
  },
  {
   "cell_type": "code",
   "execution_count": null,
   "id": "424ea858",
   "metadata": {},
   "outputs": [],
   "source": [
    "dialog_data = dialog_data.drop(columns=['act'])\n",
    "dialog_data = dialog_data.drop(columns=['emotion'])\n",
    "dialog_data['label'] = 0"
   ]
  },
  {
   "cell_type": "code",
   "execution_count": null,
   "id": "43c359fb",
   "metadata": {},
   "outputs": [],
   "source": [
    "dialog_chats_agrupados = dialog_data[['normalized_dialog']].copy()\n",
    "dialog_chats_agrupados.rename(columns={'normalized_dialog': 'full_chat'}, inplace=True)\n",
    "dialog_chats_agrupados['label'] = 0\n"
   ]
  },
  {
   "cell_type": "code",
   "execution_count": null,
   "id": "8ec785cd",
   "metadata": {},
   "outputs": [],
   "source": [
    "datos_para_ml = pd.concat([grooming_chats_agrupados, dialog_chats_agrupados], ignore_index=True)\n"
   ]
  },
  {
   "cell_type": "code",
   "execution_count": 26,
   "id": "5f7b33c2",
   "metadata": {},
   "outputs": [
    {
     "name": "stdout",
     "output_type": "stream",
     "text": [
      "\n",
      " DF final para ML guardado en: datos_finales_para_ml.csv\n"
     ]
    }
   ],
   "source": [
    "output_filename = 'datos_finales_para_ml.csv'\n",
    "try:\n",
    "    datos_para_ml.to_csv(output_filename, index=False)\n",
    "    print(f\"\\n DF final para ML guardado en: {output_filename}\")\n",
    "except Exception as e:\n",
    "    print(f\"Error al guardar el archivo: {e}\")"
   ]
  }
 ],
 "metadata": {
  "colab": {
   "provenance": []
  },
  "kernelspec": {
   "display_name": "Python 3 (ipykernel)",
   "language": "python",
   "name": "python3"
  },
  "language_info": {
   "codemirror_mode": {
    "name": "ipython",
    "version": 3
   },
   "file_extension": ".py",
   "mimetype": "text/x-python",
   "name": "python",
   "nbconvert_exporter": "python",
   "pygments_lexer": "ipython3",
   "version": "3.13.3"
  }
 },
 "nbformat": 4,
 "nbformat_minor": 5
}
